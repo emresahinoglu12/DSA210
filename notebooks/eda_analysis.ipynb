{
 "cells": [
  {
   "cell_type": "code",
   "execution_count": 17,
   "id": "57cec59a-f412-42e0-8f61-76a5696d42e5",
   "metadata": {},
   "outputs": [],
   "source": [
    "# 🎬 Customer Behavior and Ticket Sales Analysis in a Cinema Hall\n",
    "#This notebook covers the **Exploratory Data Analysis (EDA)** and **Hypothesis Testing** phases of the project.\n",
    "\n",
    "\n",
    "\n",
    "## 1️⃣ Data Loading & Cleaning"
   ]
  },
  {
   "cell_type": "code",
   "execution_count": 3,
   "id": "38b242d9-7f5e-44b9-afac-c806fa087080",
   "metadata": {},
   "outputs": [
    {
     "data": {
      "text/html": [
       "<div>\n",
       "<style scoped>\n",
       "    .dataframe tbody tr th:only-of-type {\n",
       "        vertical-align: middle;\n",
       "    }\n",
       "\n",
       "    .dataframe tbody tr th {\n",
       "        vertical-align: top;\n",
       "    }\n",
       "\n",
       "    .dataframe thead th {\n",
       "        text-align: right;\n",
       "    }\n",
       "</style>\n",
       "<table border=\"1\" class=\"dataframe\">\n",
       "  <thead>\n",
       "    <tr style=\"text-align: right;\">\n",
       "      <th></th>\n",
       "      <th>Ticket_ID</th>\n",
       "      <th>Age</th>\n",
       "      <th>Ticket_Price</th>\n",
       "      <th>Movie_Genre</th>\n",
       "      <th>Seat_Type</th>\n",
       "      <th>Number_of_Person</th>\n",
       "      <th>Purchase_Again</th>\n",
       "    </tr>\n",
       "  </thead>\n",
       "  <tbody>\n",
       "    <tr>\n",
       "      <th>0</th>\n",
       "      <td>N4369</td>\n",
       "      <td>55</td>\n",
       "      <td>12.27</td>\n",
       "      <td>Comedy</td>\n",
       "      <td>Standard</td>\n",
       "      <td>7</td>\n",
       "      <td>0</td>\n",
       "    </tr>\n",
       "    <tr>\n",
       "      <th>1</th>\n",
       "      <td>B8091</td>\n",
       "      <td>35</td>\n",
       "      <td>19.02</td>\n",
       "      <td>Drama</td>\n",
       "      <td>Standard</td>\n",
       "      <td>1</td>\n",
       "      <td>1</td>\n",
       "    </tr>\n",
       "    <tr>\n",
       "      <th>2</th>\n",
       "      <td>V6341</td>\n",
       "      <td>55</td>\n",
       "      <td>22.52</td>\n",
       "      <td>Horror</td>\n",
       "      <td>VIP</td>\n",
       "      <td>3</td>\n",
       "      <td>0</td>\n",
       "    </tr>\n",
       "    <tr>\n",
       "      <th>3</th>\n",
       "      <td>B3243</td>\n",
       "      <td>53</td>\n",
       "      <td>23.01</td>\n",
       "      <td>Drama</td>\n",
       "      <td>Standard</td>\n",
       "      <td>6</td>\n",
       "      <td>1</td>\n",
       "    </tr>\n",
       "    <tr>\n",
       "      <th>4</th>\n",
       "      <td>I3814</td>\n",
       "      <td>30</td>\n",
       "      <td>21.81</td>\n",
       "      <td>Comedy</td>\n",
       "      <td>VIP</td>\n",
       "      <td>4</td>\n",
       "      <td>1</td>\n",
       "    </tr>\n",
       "  </tbody>\n",
       "</table>\n",
       "</div>"
      ],
      "text/plain": [
       "  Ticket_ID  Age  Ticket_Price Movie_Genre Seat_Type  Number_of_Person  \\\n",
       "0     N4369   55         12.27      Comedy  Standard                 7   \n",
       "1     B8091   35         19.02       Drama  Standard                 1   \n",
       "2     V6341   55         22.52      Horror       VIP                 3   \n",
       "3     B3243   53         23.01       Drama  Standard                 6   \n",
       "4     I3814   30         21.81      Comedy       VIP                 4   \n",
       "\n",
       "   Purchase_Again  \n",
       "0               0  \n",
       "1               1  \n",
       "2               0  \n",
       "3               1  \n",
       "4               1  "
      ]
     },
     "execution_count": 3,
     "metadata": {},
     "output_type": "execute_result"
    }
   ],
   "source": [
    "import pandas as pd\n",
    "import numpy as np\n",
    "import seaborn as sns\n",
    "import matplotlib.pyplot as plt\n",
    "from scipy import stats\n",
    "\n",
    "# Load Data\n",
    "data = pd.read_csv('../data/cinema_hall_ticket_sales.csv')\n",
    "\n",
    "# Data Cleaning\n",
    "data['Number_of_Person'] = data['Number_of_Person'].replace('Alone', 1).astype(int)\n",
    "data['Purchase_Again'] = data['Purchase_Again'].map({'Yes': 1, 'No': 0})\n",
    "\n",
    "data.head()"
   ]
  },
  {
   "cell_type": "code",
   "execution_count": 8,
   "id": "e7b44c11-0aee-4ea5-b7b0-927019085778",
   "metadata": {},
   "outputs": [],
   "source": [
    "## 2️⃣ Quick Data Overview\n",
    "#We check data types, null values, and basic statistics.\n"
   ]
  },
  {
   "cell_type": "code",
   "execution_count": 5,
   "id": "9313fe4d-ef32-4cb9-93d0-391eb3ab972d",
   "metadata": {},
   "outputs": [
    {
     "name": "stdout",
     "output_type": "stream",
     "text": [
      "<class 'pandas.core.frame.DataFrame'>\n",
      "RangeIndex: 1440 entries, 0 to 1439\n",
      "Data columns (total 7 columns):\n",
      " #   Column            Non-Null Count  Dtype  \n",
      "---  ------            --------------  -----  \n",
      " 0   Ticket_ID         1440 non-null   object \n",
      " 1   Age               1440 non-null   int64  \n",
      " 2   Ticket_Price      1440 non-null   float64\n",
      " 3   Movie_Genre       1440 non-null   object \n",
      " 4   Seat_Type         1440 non-null   object \n",
      " 5   Number_of_Person  1440 non-null   int64  \n",
      " 6   Purchase_Again    1440 non-null   int64  \n",
      "dtypes: float64(1), int64(3), object(3)\n",
      "memory usage: 78.9+ KB\n",
      "None\n"
     ]
    },
    {
     "data": {
      "text/html": [
       "<div>\n",
       "<style scoped>\n",
       "    .dataframe tbody tr th:only-of-type {\n",
       "        vertical-align: middle;\n",
       "    }\n",
       "\n",
       "    .dataframe tbody tr th {\n",
       "        vertical-align: top;\n",
       "    }\n",
       "\n",
       "    .dataframe thead th {\n",
       "        text-align: right;\n",
       "    }\n",
       "</style>\n",
       "<table border=\"1\" class=\"dataframe\">\n",
       "  <thead>\n",
       "    <tr style=\"text-align: right;\">\n",
       "      <th></th>\n",
       "      <th>Age</th>\n",
       "      <th>Ticket_Price</th>\n",
       "      <th>Number_of_Person</th>\n",
       "      <th>Purchase_Again</th>\n",
       "    </tr>\n",
       "  </thead>\n",
       "  <tbody>\n",
       "    <tr>\n",
       "      <th>count</th>\n",
       "      <td>1440.000000</td>\n",
       "      <td>1440.000000</td>\n",
       "      <td>1440.000000</td>\n",
       "      <td>1440.000000</td>\n",
       "    </tr>\n",
       "    <tr>\n",
       "      <th>mean</th>\n",
       "      <td>38.904861</td>\n",
       "      <td>17.383972</td>\n",
       "      <td>2.881944</td>\n",
       "      <td>0.490972</td>\n",
       "    </tr>\n",
       "    <tr>\n",
       "      <th>std</th>\n",
       "      <td>12.426293</td>\n",
       "      <td>4.397087</td>\n",
       "      <td>2.192591</td>\n",
       "      <td>0.500092</td>\n",
       "    </tr>\n",
       "    <tr>\n",
       "      <th>min</th>\n",
       "      <td>18.000000</td>\n",
       "      <td>10.010000</td>\n",
       "      <td>1.000000</td>\n",
       "      <td>0.000000</td>\n",
       "    </tr>\n",
       "    <tr>\n",
       "      <th>25%</th>\n",
       "      <td>28.000000</td>\n",
       "      <td>13.640000</td>\n",
       "      <td>1.000000</td>\n",
       "      <td>0.000000</td>\n",
       "    </tr>\n",
       "    <tr>\n",
       "      <th>50%</th>\n",
       "      <td>39.000000</td>\n",
       "      <td>17.280000</td>\n",
       "      <td>2.000000</td>\n",
       "      <td>0.000000</td>\n",
       "    </tr>\n",
       "    <tr>\n",
       "      <th>75%</th>\n",
       "      <td>50.000000</td>\n",
       "      <td>21.392500</td>\n",
       "      <td>5.000000</td>\n",
       "      <td>1.000000</td>\n",
       "    </tr>\n",
       "    <tr>\n",
       "      <th>max</th>\n",
       "      <td>60.000000</td>\n",
       "      <td>24.990000</td>\n",
       "      <td>7.000000</td>\n",
       "      <td>1.000000</td>\n",
       "    </tr>\n",
       "  </tbody>\n",
       "</table>\n",
       "</div>"
      ],
      "text/plain": [
       "               Age  Ticket_Price  Number_of_Person  Purchase_Again\n",
       "count  1440.000000   1440.000000       1440.000000     1440.000000\n",
       "mean     38.904861     17.383972          2.881944        0.490972\n",
       "std      12.426293      4.397087          2.192591        0.500092\n",
       "min      18.000000     10.010000          1.000000        0.000000\n",
       "25%      28.000000     13.640000          1.000000        0.000000\n",
       "50%      39.000000     17.280000          2.000000        0.000000\n",
       "75%      50.000000     21.392500          5.000000        1.000000\n",
       "max      60.000000     24.990000          7.000000        1.000000"
      ]
     },
     "execution_count": 5,
     "metadata": {},
     "output_type": "execute_result"
    }
   ],
   "source": [
    "print(data.info())\n",
    "data.describe()\n"
   ]
  },
  {
   "cell_type": "code",
   "execution_count": 9,
   "id": "8895b11d-3d1c-4e57-a7d5-ffd9e34ab92e",
   "metadata": {},
   "outputs": [],
   "source": [
    "## 3️⃣ Visualizations\n",
    "### Age Distribution of Customers"
   ]
  },
  {
   "cell_type": "code",
   "execution_count": 10,
   "id": "e096ef88-647f-4ad9-ab2f-b35c91beab29",
   "metadata": {},
   "outputs": [
    {
     "data": {
      "image/png": "[encoded data removed]",
      "text/plain": [
       "<Figure size 640x480 with 1 Axes>"
      ]
     },
     "metadata": {},
     "output_type": "display_data"
    }
   ],
   "source": [
    "sns.histplot(data['Age'], bins=20, kde=True)\n",
    "plt.title('Age Distribution of Customers')\n",
    "plt.xlabel('Age')\n",
    "plt.ylabel('Count')\n",
    "plt.show()\n"
   ]
  },
  {
   "cell_type": "code",
   "execution_count": 11,
   "id": "314d72fa-ba19-4482-ba1a-2baedc1bd207",
   "metadata": {},
   "outputs": [],
   "source": [
    "### Ticket Price by Seat Type\n"
   ]
  },
  {
   "cell_type": "code",
   "execution_count": 12,
   "id": "24cebd02-46a3-456c-bc72-57d64dc4cebd",
   "metadata": {},
   "outputs": [
    {
     "data": {
      "image/png": "[encoded data removed]",
      "text/plain": [
       "<Figure size 640x480 with 1 Axes>"
      ]
     },
     "metadata": {},
     "output_type": "display_data"
    }
   ],
   "source": [
    "sns.boxplot(x='Seat_Type', y='Ticket_Price', data=data)\n",
    "plt.title('Ticket Price by Seat Type')\n",
    "plt.show()\n"
   ]
  },
  {
   "cell_type": "code",
   "execution_count": 13,
   "id": "ed160d82-484c-4e04-9a15-c5ee18b796a7",
   "metadata": {},
   "outputs": [],
   "source": [
    "## 4️⃣ Hypothesis Testing\n",
    "\n",
    "### Hypothesis 1: Older audiences (>40) prefer Premium seating.\n"
   ]
  },
  {
   "cell_type": "code",
   "execution_count": 14,
   "id": "7c97c999-c89a-410e-b593-3115fec87305",
   "metadata": {},
   "outputs": [
    {
     "name": "stdout",
     "output_type": "stream",
     "text": [
      "Chi-Square Test p-value: 0.3314\n"
     ]
    }
   ],
   "source": [
    "data['Older'] = data['Age'] > 40\n",
    "premium_pref = pd.crosstab(data['Older'], data['Seat_Type'] == 'Premium')\n",
    "\n",
    "chi2, p, dof, ex = stats.chi2_contingency(premium_pref)\n",
    "print(f\"Chi-Square Test p-value: {p:.4f}\")\n"
   ]
  },
  {
   "cell_type": "code",
   "execution_count": 16,
   "id": "de88801d-47f9-4fd7-98d0-6348bd3a75dd",
   "metadata": {},
   "outputs": [],
   "source": [
    "## 5️⃣ Conclusion\n",
    "#- **Hypothesis 1 Result:** p = ...\n",
    "#- **Hypothesis 2 Result:** p = ...\n",
    "\n",
    "#All EDA visualizations and statistical tests have been completed in this notebook.\n"
   ]
  },
  {
   "cell_type": "code",
   "execution_count": null,
   "id": "6b5302bc-2dd4-48b6-a76e-5eeacb375425",
   "metadata": {},
   "outputs": [],
   "source": []
  }
 ],
 "metadata": {
  "kernelspec": {
   "display_name": "Python 3 (ipykernel)",
   "language": "python",
   "name": "python3"
  },
  "language_info": {
   "codemirror_mode": {
    "name": "ipython",
    "version": 3
   },
   "file_extension": ".py",
   "mimetype": "text/x-python",
   "name": "python",
   "nbconvert_exporter": "python",
   "pygments_lexer": "ipython3",
   "version": "3.11.11"
  }
 },
 "nbformat": 4,
 "nbformat_minor": 5
}
